{
 "cells": [
  {
   "cell_type": "code",
   "execution_count": 3,
   "id": "0aa3d1ed-f1b0-4614-8c0e-2239bf3bbaa0",
   "metadata": {},
   "outputs": [],
   "source": [
    "import tensorflow as tf\n",
    "from tensorflow.keras import layers, Model\n",
    "from tensorflow.keras.models import Sequential\n",
    "from tensorflow.keras.optimizers import Adam\n",
    "from tensorflow.keras.losses import BinaryCrossentropy\n",
    "\n",
    "def build_base_network(input_shape):\n",
    "    model = Sequential([\n",
    "        layers.Conv2D(64, (3, 3), activation='relu', input_shape=input_shape),\n",
    "        layers.MaxPooling2D(),\n",
    "        layers.Conv2D(128, (3, 3), activation='relu'),\n",
    "        layers.MaxPooling2D(),\n",
    "        layers.Flatten(),\n",
    "        layers.Dense(128, activation='relu'),\n",
    "        layers.Dense(64, activation='relu')\n",
    "    ])\n",
    "    return model\n",
    "\n",
    "input_shape = (128, 128, 1)\n",
    "\n",
    "def siamese_network(input_shape):\n",
    "    base_network = build_base_network(input_shape)\n",
    "    \n",
    "    input_1 = layers.Input(shape=input_shape)\n",
    "    input_2 = layers.Input(shape=input_shape)\n",
    "    \n",
    "    encoded_1 = base_network(input_1)\n",
    "    encoded_2 = base_network(input_2)\n",
    "    \n",
    "    distance = layers.Lambda(lambda tensors: tf.abs(tensors[0] - tensors[1]))([encoded_1, encoded_2])\n",
    "    \n",
    "    output = layers.Dense(1, activation='sigmoid')(distance)\n",
    "    \n",
    "    siamese_network = Model(inputs=[input_1, input_2], outputs=output)\n",
    "    \n",
    "    siamese_network.summary()\n",
    "    return siamese_network\n",
    "\n",
    "def train_siamese_network(siamese_network,image_pairs,labels):\n",
    "    siamese_network.compile(optimizer=Adam(learning_rate=0.001), loss=BinaryCrossentropy(), metrics=['accuracy'])\n",
    "    siamese_network.fit([image_pairs[:, 0], image_pairs[:, 1]], labels, batch_size=32, epochs=10, validation_split=0.2)\n"
   ]
  },
  {
   "cell_type": "code",
   "execution_count": null,
   "id": "cbcade6e-3203-46d0-9b6f-d7345cc217c0",
   "metadata": {},
   "outputs": [],
   "source": []
  }
 ],
 "metadata": {
  "kernelspec": {
   "display_name": "Python 3 (ipykernel)",
   "language": "python",
   "name": "python3"
  },
  "language_info": {
   "codemirror_mode": {
    "name": "ipython",
    "version": 3
   },
   "file_extension": ".py",
   "mimetype": "text/x-python",
   "name": "python",
   "nbconvert_exporter": "python",
   "pygments_lexer": "ipython3",
   "version": "3.11.7"
  }
 },
 "nbformat": 4,
 "nbformat_minor": 5
}
